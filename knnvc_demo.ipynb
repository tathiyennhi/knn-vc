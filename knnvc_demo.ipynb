{
  "cells": [
    {
      "cell_type": "code",
      "execution_count": 1,
      "metadata": {},
      "outputs": [
        {
          "name": "stdout",
          "output_type": "stream",
          "text": [
            "Requirement already satisfied: torch in /Users/velikho/anaconda3/lib/python3.11/site-packages (2.1.0)\n",
            "Requirement already satisfied: torchaudio in /Users/velikho/anaconda3/lib/python3.11/site-packages (2.1.0)\n",
            "Requirement already satisfied: numpy in /Users/velikho/anaconda3/lib/python3.11/site-packages (1.24.3)\n",
            "Requirement already satisfied: filelock in /Users/velikho/anaconda3/lib/python3.11/site-packages (from torch) (3.9.0)\n",
            "Requirement already satisfied: typing-extensions in /Users/velikho/anaconda3/lib/python3.11/site-packages (from torch) (4.7.1)\n",
            "Requirement already satisfied: sympy in /Users/velikho/anaconda3/lib/python3.11/site-packages (from torch) (1.11.1)\n",
            "Requirement already satisfied: networkx in /Users/velikho/anaconda3/lib/python3.11/site-packages (from torch) (3.1)\n",
            "Requirement already satisfied: jinja2 in /Users/velikho/anaconda3/lib/python3.11/site-packages (from torch) (3.1.2)\n",
            "Requirement already satisfied: fsspec in /Users/velikho/anaconda3/lib/python3.11/site-packages (from torch) (2023.4.0)\n",
            "Requirement already satisfied: MarkupSafe>=2.0 in /Users/velikho/anaconda3/lib/python3.11/site-packages (from jinja2->torch) (2.1.1)\n",
            "Requirement already satisfied: mpmath>=0.19 in /Users/velikho/anaconda3/lib/python3.11/site-packages (from sympy->torch) (1.3.0)\n",
            "Note: you may need to restart the kernel to use updated packages.\n"
          ]
        }
      ],
      "source": [
        "pip install torch torchaudio numpy"
      ]
    },
    {
      "cell_type": "code",
      "execution_count": 2,
      "metadata": {
        "colab": {
          "base_uri": "https://localhost:8080/"
        },
        "id": "L8If-TOe4BZO",
        "outputId": "0ed08fba-ad75-48a9-be34-b4976f286bb7"
      },
      "outputs": [
        {
          "name": "stderr",
          "output_type": "stream",
          "text": [
            "Using cache found in /Users/velikho/.cache/torch/hub/bshall_knn-vc_master\n",
            "/Users/velikho/anaconda3/lib/python3.11/site-packages/torch/nn/utils/weight_norm.py:30: UserWarning: torch.nn.utils.weight_norm is deprecated in favor of torch.nn.utils.parametrizations.weight_norm.\n",
            "  warnings.warn(\"torch.nn.utils.weight_norm is deprecated in favor of torch.nn.utils.parametrizations.weight_norm.\")\n"
          ]
        },
        {
          "name": "stdout",
          "output_type": "stream",
          "text": [
            "Removing weight norm...\n",
            "[HiFiGAN] Generator loaded with 16,523,393 parameters.\n",
            "WavLM-Large loaded with 315,453,120 parameters.\n"
          ]
        }
      ],
      "source": [
        "import torch, torchaudio\n",
        "\n",
        "knn_vc = torch.hub.load('bshall/knn-vc', 'knn_vc', prematched=True, trust_repo=True, pretrained=True, device='cpu')"
      ]
    },
    {
      "cell_type": "code",
      "execution_count": 3,
      "metadata": {
        "id": "OSTHzOc14In5"
      },
      "outputs": [
        {
          "ename": "RuntimeError",
          "evalue": "Couldn't find appropriate backend to handle uri ./content/test.wav and format None.",
          "output_type": "error",
          "traceback": [
            "\u001b[0;31m---------------------------------------------------------------------------\u001b[0m",
            "\u001b[0;31mRuntimeError\u001b[0m                              Traceback (most recent call last)",
            "\u001b[1;32m/Users/velikho/Desktop/WORKING/voice-channger/knn-vc/knnvc_demo.ipynb Cell 3\u001b[0m line \u001b[0;36m4\n\u001b[1;32m      <a href='vscode-notebook-cell:/Users/velikho/Desktop/WORKING/voice-channger/knn-vc/knnvc_demo.ipynb#W2sZmlsZQ%3D%3D?line=0'>1</a>\u001b[0m src_wav_path \u001b[39m=\u001b[39m \u001b[39m'\u001b[39m\u001b[39m./content/test.wav\u001b[39m\u001b[39m'\u001b[39m\n\u001b[1;32m      <a href='vscode-notebook-cell:/Users/velikho/Desktop/WORKING/voice-channger/knn-vc/knnvc_demo.ipynb#W2sZmlsZQ%3D%3D?line=1'>2</a>\u001b[0m ref_wav_paths \u001b[39m=\u001b[39m [\u001b[39m'\u001b[39m\u001b[39m./content/ref1.wav\u001b[39m\u001b[39m'\u001b[39m, ]\n\u001b[0;32m----> <a href='vscode-notebook-cell:/Users/velikho/Desktop/WORKING/voice-channger/knn-vc/knnvc_demo.ipynb#W2sZmlsZQ%3D%3D?line=3'>4</a>\u001b[0m query_seq \u001b[39m=\u001b[39m knn_vc\u001b[39m.\u001b[39mget_features(src_wav_path)\n\u001b[1;32m      <a href='vscode-notebook-cell:/Users/velikho/Desktop/WORKING/voice-channger/knn-vc/knnvc_demo.ipynb#W2sZmlsZQ%3D%3D?line=4'>5</a>\u001b[0m matching_set \u001b[39m=\u001b[39m knn_vc\u001b[39m.\u001b[39mget_matching_set(ref_wav_paths)\n",
            "File \u001b[0;32m~/anaconda3/lib/python3.11/site-packages/torch/utils/_contextlib.py:115\u001b[0m, in \u001b[0;36mcontext_decorator.<locals>.decorate_context\u001b[0;34m(*args, **kwargs)\u001b[0m\n\u001b[1;32m    112\u001b[0m \u001b[39m@functools\u001b[39m\u001b[39m.\u001b[39mwraps(func)\n\u001b[1;32m    113\u001b[0m \u001b[39mdef\u001b[39;00m \u001b[39mdecorate_context\u001b[39m(\u001b[39m*\u001b[39margs, \u001b[39m*\u001b[39m\u001b[39m*\u001b[39mkwargs):\n\u001b[1;32m    114\u001b[0m     \u001b[39mwith\u001b[39;00m ctx_factory():\n\u001b[0;32m--> 115\u001b[0m         \u001b[39mreturn\u001b[39;00m func(\u001b[39m*\u001b[39margs, \u001b[39m*\u001b[39m\u001b[39m*\u001b[39mkwargs)\n",
            "File \u001b[0;32m~/.cache/torch/hub/bshall_knn-vc_master/matcher.py:88\u001b[0m, in \u001b[0;36mKNeighborsVC.get_features\u001b[0;34m(self, path, weights, vad_trigger_level)\u001b[0m\n\u001b[1;32m     86\u001b[0m \u001b[39mif\u001b[39;00m weights \u001b[39m==\u001b[39m \u001b[39mNone\u001b[39;00m: weights \u001b[39m=\u001b[39m \u001b[39mself\u001b[39m\u001b[39m.\u001b[39mweighting\n\u001b[1;32m     87\u001b[0m \u001b[39mif\u001b[39;00m \u001b[39mtype\u001b[39m(path) \u001b[39min\u001b[39;00m [\u001b[39mstr\u001b[39m, Path]:\n\u001b[0;32m---> 88\u001b[0m     x, sr \u001b[39m=\u001b[39m torchaudio\u001b[39m.\u001b[39mload(path, normalize\u001b[39m=\u001b[39m\u001b[39mTrue\u001b[39;00m)\n\u001b[1;32m     89\u001b[0m \u001b[39melse\u001b[39;00m:\n\u001b[1;32m     90\u001b[0m     x: Tensor \u001b[39m=\u001b[39m path\n",
            "File \u001b[0;32m~/anaconda3/lib/python3.11/site-packages/torchaudio/_backend/utils.py:202\u001b[0m, in \u001b[0;36mget_load_func.<locals>.load\u001b[0;34m(uri, frame_offset, num_frames, normalize, channels_first, format, buffer_size, backend)\u001b[0m\n\u001b[1;32m    116\u001b[0m \u001b[39mdef\u001b[39;00m \u001b[39mload\u001b[39m(\n\u001b[1;32m    117\u001b[0m     uri: Union[BinaryIO, \u001b[39mstr\u001b[39m, os\u001b[39m.\u001b[39mPathLike],\n\u001b[1;32m    118\u001b[0m     frame_offset: \u001b[39mint\u001b[39m \u001b[39m=\u001b[39m \u001b[39m0\u001b[39m,\n\u001b[0;32m   (...)\u001b[0m\n\u001b[1;32m    124\u001b[0m     backend: Optional[\u001b[39mstr\u001b[39m] \u001b[39m=\u001b[39m \u001b[39mNone\u001b[39;00m,\n\u001b[1;32m    125\u001b[0m ) \u001b[39m-\u001b[39m\u001b[39m>\u001b[39m Tuple[torch\u001b[39m.\u001b[39mTensor, \u001b[39mint\u001b[39m]:\n\u001b[1;32m    126\u001b[0m \u001b[39m    \u001b[39m\u001b[39m\"\"\"Load audio data from source.\u001b[39;00m\n\u001b[1;32m    127\u001b[0m \n\u001b[1;32m    128\u001b[0m \u001b[39m    By default (``normalize=True``, ``channels_first=True``), this function returns Tensor with\u001b[39;00m\n\u001b[0;32m   (...)\u001b[0m\n\u001b[1;32m    200\u001b[0m \u001b[39m            `[channel, time]` else `[time, channel]`.\u001b[39;00m\n\u001b[1;32m    201\u001b[0m \u001b[39m    \"\"\"\u001b[39;00m\n\u001b[0;32m--> 202\u001b[0m     backend \u001b[39m=\u001b[39m dispatcher(uri, \u001b[39mformat\u001b[39m, backend)\n\u001b[1;32m    203\u001b[0m     \u001b[39mreturn\u001b[39;00m backend\u001b[39m.\u001b[39mload(uri, frame_offset, num_frames, normalize, channels_first, \u001b[39mformat\u001b[39m, buffer_size)\n",
            "File \u001b[0;32m~/anaconda3/lib/python3.11/site-packages/torchaudio/_backend/utils.py:114\u001b[0m, in \u001b[0;36mget_load_func.<locals>.dispatcher\u001b[0;34m(uri, format, backend_name)\u001b[0m\n\u001b[1;32m    112\u001b[0m     \u001b[39mif\u001b[39;00m backend\u001b[39m.\u001b[39mcan_decode(uri, \u001b[39mformat\u001b[39m):\n\u001b[1;32m    113\u001b[0m         \u001b[39mreturn\u001b[39;00m backend\n\u001b[0;32m--> 114\u001b[0m \u001b[39mraise\u001b[39;00m \u001b[39mRuntimeError\u001b[39;00m(\u001b[39mf\u001b[39m\u001b[39m\"\u001b[39m\u001b[39mCouldn\u001b[39m\u001b[39m'\u001b[39m\u001b[39mt find appropriate backend to handle uri \u001b[39m\u001b[39m{\u001b[39;00muri\u001b[39m}\u001b[39;00m\u001b[39m and format \u001b[39m\u001b[39m{\u001b[39;00m\u001b[39mformat\u001b[39m\u001b[39m}\u001b[39;00m\u001b[39m.\u001b[39m\u001b[39m\"\u001b[39m)\n",
            "\u001b[0;31mRuntimeError\u001b[0m: Couldn't find appropriate backend to handle uri ./content/test.wav and format None."
          ]
        }
      ],
      "source": [
        "src_wav_path = './content/test.wav'\n",
        "ref_wav_paths = ['./content/ref1.wav', ]\n",
        "\n",
        "query_seq = knn_vc.get_features(src_wav_path)\n",
        "matching_set = knn_vc.get_matching_set(ref_wav_paths)\n"
      ]
    },
    {
      "cell_type": "code",
      "execution_count": null,
      "metadata": {
        "id": "UREha7VM4idc"
      },
      "outputs": [],
      "source": [
        "out_wav = knn_vc.match(query_seq, matching_set, topk=1)"
      ]
    },
    {
      "cell_type": "code",
      "execution_count": null,
      "metadata": {
        "id": "1YhPSQ4f4nF0"
      },
      "outputs": [],
      "source": [
        "import IPython.display as ipd"
      ]
    },
    {
      "cell_type": "code",
      "execution_count": null,
      "metadata": {
        "id": "7-xbWSqf7iAK"
      },
      "outputs": [],
      "source": [
        "ipd.Audio(out_wav.numpy(), rate=16000)"
      ]
    },
    {
      "cell_type": "code",
      "execution_count": null,
      "metadata": {
        "id": "QDA9xO_mB1eD"
      },
      "outputs": [],
      "source": [
        "torchaudio.save('knnvc1_out.wav', out_wav[None], 16000)"
      ]
    }
  ],
  "metadata": {
    "accelerator": "GPU",
    "colab": {
      "gpuType": "T4",
      "provenance": []
    },
    "kernelspec": {
      "display_name": "Python 3",
      "name": "python3"
    },
    "language_info": {
      "codemirror_mode": {
        "name": "ipython",
        "version": 3
      },
      "file_extension": ".py",
      "mimetype": "text/x-python",
      "name": "python",
      "nbconvert_exporter": "python",
      "pygments_lexer": "ipython3",
      "version": "3.10.13"
    }
  },
  "nbformat": 4,
  "nbformat_minor": 0
}
